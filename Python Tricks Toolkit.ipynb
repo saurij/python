{
 "cells": [
  {
   "cell_type": "code",
   "execution_count": null,
   "metadata": {
    "collapsed": true
   },
   "outputs": [],
   "source": []
  },
  {
   "cell_type": "code",
   "execution_count": 5,
   "metadata": {
    "collapsed": true
   },
   "outputs": [],
   "source": [
    "# List comprehensions"
   ]
  },
  {
   "cell_type": "code",
   "execution_count": 8,
   "metadata": {
    "collapsed": true
   },
   "outputs": [],
   "source": [
    "even_squares = [x * x \n",
    "                for x in range(1000) \n",
    "                if x%2 == 0]"
   ]
  },
  {
   "cell_type": "code",
   "execution_count": 9,
   "metadata": {},
   "outputs": [
    {
     "data": {
      "text/plain": [
       "[0,\n",
       " 4,\n",
       " 16,\n",
       " 36,\n",
       " 64,\n",
       " 100,\n",
       " 144,\n",
       " 196,\n",
       " 256,\n",
       " 324,\n",
       " 400,\n",
       " 484,\n",
       " 576,\n",
       " 676,\n",
       " 784,\n",
       " 900,\n",
       " 1024,\n",
       " 1156,\n",
       " 1296,\n",
       " 1444,\n",
       " 1600,\n",
       " 1764,\n",
       " 1936,\n",
       " 2116,\n",
       " 2304,\n",
       " 2500,\n",
       " 2704,\n",
       " 2916,\n",
       " 3136,\n",
       " 3364,\n",
       " 3600,\n",
       " 3844,\n",
       " 4096,\n",
       " 4356,\n",
       " 4624,\n",
       " 4900,\n",
       " 5184,\n",
       " 5476,\n",
       " 5776,\n",
       " 6084,\n",
       " 6400,\n",
       " 6724,\n",
       " 7056,\n",
       " 7396,\n",
       " 7744,\n",
       " 8100,\n",
       " 8464,\n",
       " 8836,\n",
       " 9216,\n",
       " 9604,\n",
       " 10000,\n",
       " 10404,\n",
       " 10816,\n",
       " 11236,\n",
       " 11664,\n",
       " 12100,\n",
       " 12544,\n",
       " 12996,\n",
       " 13456,\n",
       " 13924,\n",
       " 14400,\n",
       " 14884,\n",
       " 15376,\n",
       " 15876,\n",
       " 16384,\n",
       " 16900,\n",
       " 17424,\n",
       " 17956,\n",
       " 18496,\n",
       " 19044,\n",
       " 19600,\n",
       " 20164,\n",
       " 20736,\n",
       " 21316,\n",
       " 21904,\n",
       " 22500,\n",
       " 23104,\n",
       " 23716,\n",
       " 24336,\n",
       " 24964,\n",
       " 25600,\n",
       " 26244,\n",
       " 26896,\n",
       " 27556,\n",
       " 28224,\n",
       " 28900,\n",
       " 29584,\n",
       " 30276,\n",
       " 30976,\n",
       " 31684,\n",
       " 32400,\n",
       " 33124,\n",
       " 33856,\n",
       " 34596,\n",
       " 35344,\n",
       " 36100,\n",
       " 36864,\n",
       " 37636,\n",
       " 38416,\n",
       " 39204,\n",
       " 40000,\n",
       " 40804,\n",
       " 41616,\n",
       " 42436,\n",
       " 43264,\n",
       " 44100,\n",
       " 44944,\n",
       " 45796,\n",
       " 46656,\n",
       " 47524,\n",
       " 48400,\n",
       " 49284,\n",
       " 50176,\n",
       " 51076,\n",
       " 51984,\n",
       " 52900,\n",
       " 53824,\n",
       " 54756,\n",
       " 55696,\n",
       " 56644,\n",
       " 57600,\n",
       " 58564,\n",
       " 59536,\n",
       " 60516,\n",
       " 61504,\n",
       " 62500,\n",
       " 63504,\n",
       " 64516,\n",
       " 65536,\n",
       " 66564,\n",
       " 67600,\n",
       " 68644,\n",
       " 69696,\n",
       " 70756,\n",
       " 71824,\n",
       " 72900,\n",
       " 73984,\n",
       " 75076,\n",
       " 76176,\n",
       " 77284,\n",
       " 78400,\n",
       " 79524,\n",
       " 80656,\n",
       " 81796,\n",
       " 82944,\n",
       " 84100,\n",
       " 85264,\n",
       " 86436,\n",
       " 87616,\n",
       " 88804,\n",
       " 90000,\n",
       " 91204,\n",
       " 92416,\n",
       " 93636,\n",
       " 94864,\n",
       " 96100,\n",
       " 97344,\n",
       " 98596,\n",
       " 99856,\n",
       " 101124,\n",
       " 102400,\n",
       " 103684,\n",
       " 104976,\n",
       " 106276,\n",
       " 107584,\n",
       " 108900,\n",
       " 110224,\n",
       " 111556,\n",
       " 112896,\n",
       " 114244,\n",
       " 115600,\n",
       " 116964,\n",
       " 118336,\n",
       " 119716,\n",
       " 121104,\n",
       " 122500,\n",
       " 123904,\n",
       " 125316,\n",
       " 126736,\n",
       " 128164,\n",
       " 129600,\n",
       " 131044,\n",
       " 132496,\n",
       " 133956,\n",
       " 135424,\n",
       " 136900,\n",
       " 138384,\n",
       " 139876,\n",
       " 141376,\n",
       " 142884,\n",
       " 144400,\n",
       " 145924,\n",
       " 147456,\n",
       " 148996,\n",
       " 150544,\n",
       " 152100,\n",
       " 153664,\n",
       " 155236,\n",
       " 156816,\n",
       " 158404,\n",
       " 160000,\n",
       " 161604,\n",
       " 163216,\n",
       " 164836,\n",
       " 166464,\n",
       " 168100,\n",
       " 169744,\n",
       " 171396,\n",
       " 173056,\n",
       " 174724,\n",
       " 176400,\n",
       " 178084,\n",
       " 179776,\n",
       " 181476,\n",
       " 183184,\n",
       " 184900,\n",
       " 186624,\n",
       " 188356,\n",
       " 190096,\n",
       " 191844,\n",
       " 193600,\n",
       " 195364,\n",
       " 197136,\n",
       " 198916,\n",
       " 200704,\n",
       " 202500,\n",
       " 204304,\n",
       " 206116,\n",
       " 207936,\n",
       " 209764,\n",
       " 211600,\n",
       " 213444,\n",
       " 215296,\n",
       " 217156,\n",
       " 219024,\n",
       " 220900,\n",
       " 222784,\n",
       " 224676,\n",
       " 226576,\n",
       " 228484,\n",
       " 230400,\n",
       " 232324,\n",
       " 234256,\n",
       " 236196,\n",
       " 238144,\n",
       " 240100,\n",
       " 242064,\n",
       " 244036,\n",
       " 246016,\n",
       " 248004,\n",
       " 250000,\n",
       " 252004,\n",
       " 254016,\n",
       " 256036,\n",
       " 258064,\n",
       " 260100,\n",
       " 262144,\n",
       " 264196,\n",
       " 266256,\n",
       " 268324,\n",
       " 270400,\n",
       " 272484,\n",
       " 274576,\n",
       " 276676,\n",
       " 278784,\n",
       " 280900,\n",
       " 283024,\n",
       " 285156,\n",
       " 287296,\n",
       " 289444,\n",
       " 291600,\n",
       " 293764,\n",
       " 295936,\n",
       " 298116,\n",
       " 300304,\n",
       " 302500,\n",
       " 304704,\n",
       " 306916,\n",
       " 309136,\n",
       " 311364,\n",
       " 313600,\n",
       " 315844,\n",
       " 318096,\n",
       " 320356,\n",
       " 322624,\n",
       " 324900,\n",
       " 327184,\n",
       " 329476,\n",
       " 331776,\n",
       " 334084,\n",
       " 336400,\n",
       " 338724,\n",
       " 341056,\n",
       " 343396,\n",
       " 345744,\n",
       " 348100,\n",
       " 350464,\n",
       " 352836,\n",
       " 355216,\n",
       " 357604,\n",
       " 360000,\n",
       " 362404,\n",
       " 364816,\n",
       " 367236,\n",
       " 369664,\n",
       " 372100,\n",
       " 374544,\n",
       " 376996,\n",
       " 379456,\n",
       " 381924,\n",
       " 384400,\n",
       " 386884,\n",
       " 389376,\n",
       " 391876,\n",
       " 394384,\n",
       " 396900,\n",
       " 399424,\n",
       " 401956,\n",
       " 404496,\n",
       " 407044,\n",
       " 409600,\n",
       " 412164,\n",
       " 414736,\n",
       " 417316,\n",
       " 419904,\n",
       " 422500,\n",
       " 425104,\n",
       " 427716,\n",
       " 430336,\n",
       " 432964,\n",
       " 435600,\n",
       " 438244,\n",
       " 440896,\n",
       " 443556,\n",
       " 446224,\n",
       " 448900,\n",
       " 451584,\n",
       " 454276,\n",
       " 456976,\n",
       " 459684,\n",
       " 462400,\n",
       " 465124,\n",
       " 467856,\n",
       " 470596,\n",
       " 473344,\n",
       " 476100,\n",
       " 478864,\n",
       " 481636,\n",
       " 484416,\n",
       " 487204,\n",
       " 490000,\n",
       " 492804,\n",
       " 495616,\n",
       " 498436,\n",
       " 501264,\n",
       " 504100,\n",
       " 506944,\n",
       " 509796,\n",
       " 512656,\n",
       " 515524,\n",
       " 518400,\n",
       " 521284,\n",
       " 524176,\n",
       " 527076,\n",
       " 529984,\n",
       " 532900,\n",
       " 535824,\n",
       " 538756,\n",
       " 541696,\n",
       " 544644,\n",
       " 547600,\n",
       " 550564,\n",
       " 553536,\n",
       " 556516,\n",
       " 559504,\n",
       " 562500,\n",
       " 565504,\n",
       " 568516,\n",
       " 571536,\n",
       " 574564,\n",
       " 577600,\n",
       " 580644,\n",
       " 583696,\n",
       " 586756,\n",
       " 589824,\n",
       " 592900,\n",
       " 595984,\n",
       " 599076,\n",
       " 602176,\n",
       " 605284,\n",
       " 608400,\n",
       " 611524,\n",
       " 614656,\n",
       " 617796,\n",
       " 620944,\n",
       " 624100,\n",
       " 627264,\n",
       " 630436,\n",
       " 633616,\n",
       " 636804,\n",
       " 640000,\n",
       " 643204,\n",
       " 646416,\n",
       " 649636,\n",
       " 652864,\n",
       " 656100,\n",
       " 659344,\n",
       " 662596,\n",
       " 665856,\n",
       " 669124,\n",
       " 672400,\n",
       " 675684,\n",
       " 678976,\n",
       " 682276,\n",
       " 685584,\n",
       " 688900,\n",
       " 692224,\n",
       " 695556,\n",
       " 698896,\n",
       " 702244,\n",
       " 705600,\n",
       " 708964,\n",
       " 712336,\n",
       " 715716,\n",
       " 719104,\n",
       " 722500,\n",
       " 725904,\n",
       " 729316,\n",
       " 732736,\n",
       " 736164,\n",
       " 739600,\n",
       " 743044,\n",
       " 746496,\n",
       " 749956,\n",
       " 753424,\n",
       " 756900,\n",
       " 760384,\n",
       " 763876,\n",
       " 767376,\n",
       " 770884,\n",
       " 774400,\n",
       " 777924,\n",
       " 781456,\n",
       " 784996,\n",
       " 788544,\n",
       " 792100,\n",
       " 795664,\n",
       " 799236,\n",
       " 802816,\n",
       " 806404,\n",
       " 810000,\n",
       " 813604,\n",
       " 817216,\n",
       " 820836,\n",
       " 824464,\n",
       " 828100,\n",
       " 831744,\n",
       " 835396,\n",
       " 839056,\n",
       " 842724,\n",
       " 846400,\n",
       " 850084,\n",
       " 853776,\n",
       " 857476,\n",
       " 861184,\n",
       " 864900,\n",
       " 868624,\n",
       " 872356,\n",
       " 876096,\n",
       " 879844,\n",
       " 883600,\n",
       " 887364,\n",
       " 891136,\n",
       " 894916,\n",
       " 898704,\n",
       " 902500,\n",
       " 906304,\n",
       " 910116,\n",
       " 913936,\n",
       " 917764,\n",
       " 921600,\n",
       " 925444,\n",
       " 929296,\n",
       " 933156,\n",
       " 937024,\n",
       " 940900,\n",
       " 944784,\n",
       " 948676,\n",
       " 952576,\n",
       " 956484,\n",
       " 960400,\n",
       " 964324,\n",
       " 968256,\n",
       " 972196,\n",
       " 976144,\n",
       " 980100,\n",
       " 984064,\n",
       " 988036,\n",
       " 992016,\n",
       " 996004]"
      ]
     },
     "execution_count": 9,
     "metadata": {},
     "output_type": "execute_result"
    }
   ],
   "source": [
    "even_squares"
   ]
  },
  {
   "cell_type": "code",
   "execution_count": 10,
   "metadata": {
    "collapsed": true
   },
   "outputs": [],
   "source": [
    "# Class"
   ]
  },
  {
   "cell_type": "code",
   "execution_count": 26,
   "metadata": {
    "collapsed": true
   },
   "outputs": [],
   "source": [
    "class Car:\n",
    "    def __init__(self, color, mileage):\n",
    "        self.color = color\n",
    "        self.mileage = mileage\n",
    "        \n",
    "    def __str__(self):\n",
    "        return 'a {self.color} car'.format(self=self)\n",
    "    \n",
    "    def __repr__(self):\n",
    "        #return 'repr for class'\n",
    "        return '{self.__class__.__name__}({self.color}, {self.mileage})'.format(self=self)"
   ]
  },
  {
   "cell_type": "code",
   "execution_count": 27,
   "metadata": {
    "collapsed": true
   },
   "outputs": [],
   "source": [
    "my_car = Car('red' , 32435)"
   ]
  },
  {
   "cell_type": "code",
   "execution_count": 28,
   "metadata": {},
   "outputs": [
    {
     "name": "stdout",
     "output_type": "stream",
     "text": [
      "a red car\n"
     ]
    }
   ],
   "source": [
    "print(my_car)"
   ]
  },
  {
   "cell_type": "code",
   "execution_count": 29,
   "metadata": {},
   "outputs": [
    {
     "data": {
      "text/plain": [
       "Car(red, 32435)"
      ]
     },
     "execution_count": 29,
     "metadata": {},
     "output_type": "execute_result"
    }
   ],
   "source": [
    "my_car"
   ]
  },
  {
   "cell_type": "code",
   "execution_count": 30,
   "metadata": {
    "collapsed": true
   },
   "outputs": [],
   "source": [
    "import datetime\n",
    "today = datetime.date.today()"
   ]
  },
  {
   "cell_type": "code",
   "execution_count": 23,
   "metadata": {},
   "outputs": [
    {
     "data": {
      "text/plain": [
       "'2019-01-04'"
      ]
     },
     "execution_count": 23,
     "metadata": {},
     "output_type": "execute_result"
    }
   ],
   "source": [
    "str(today)"
   ]
  },
  {
   "cell_type": "code",
   "execution_count": 24,
   "metadata": {},
   "outputs": [
    {
     "data": {
      "text/plain": [
       "datetime.date(2019, 1, 4)"
      ]
     },
     "execution_count": 24,
     "metadata": {},
     "output_type": "execute_result"
    }
   ],
   "source": [
    "today"
   ]
  },
  {
   "cell_type": "code",
   "execution_count": 25,
   "metadata": {
    "collapsed": true
   },
   "outputs": [],
   "source": [
    "# __str__ ==> easy to read, for fuman consumption\n",
    "# __repr__ ==> unambiguous, explicit\n",
    "\n",
    "# Python falls back to repr if str is not defined\n",
    "\n",
    "# Atleast add a __repr__ to your classes"
   ]
  },
  {
   "cell_type": "code",
   "execution_count": 1,
   "metadata": {
    "collapsed": true
   },
   "outputs": [],
   "source": [
    "# Boolean, integer, dictionary"
   ]
  },
  {
   "cell_type": "code",
   "execution_count": 2,
   "metadata": {},
   "outputs": [
    {
     "data": {
      "text/plain": [
       "True"
      ]
     },
     "execution_count": 2,
     "metadata": {},
     "output_type": "execute_result"
    }
   ],
   "source": [
    "True == 1 == 1.0"
   ]
  },
  {
   "cell_type": "code",
   "execution_count": 3,
   "metadata": {
    "collapsed": true
   },
   "outputs": [],
   "source": [
    "# This is because boolean is a subtype of Integer"
   ]
  },
  {
   "cell_type": "code",
   "execution_count": 4,
   "metadata": {},
   "outputs": [
    {
     "data": {
      "text/plain": [
       "{True: 'may be'}"
      ]
     },
     "execution_count": 4,
     "metadata": {},
     "output_type": "execute_result"
    }
   ],
   "source": [
    "{True : \"yes\", 1 : \"no\", 1.0 : \"may be\"}"
   ]
  },
  {
   "cell_type": "code",
   "execution_count": 5,
   "metadata": {
    "collapsed": true
   },
   "outputs": [],
   "source": [
    "# Paremeter unpacking"
   ]
  },
  {
   "cell_type": "code",
   "execution_count": 6,
   "metadata": {
    "collapsed": true
   },
   "outputs": [],
   "source": [
    "def print_vector(x, y, z):\n",
    "    print('< %s, %s, %s >' % (x,y,z))"
   ]
  },
  {
   "cell_type": "code",
   "execution_count": 17,
   "metadata": {
    "collapsed": true
   },
   "outputs": [],
   "source": [
    "tuple_vec = (1,0,2)"
   ]
  },
  {
   "cell_type": "code",
   "execution_count": 18,
   "metadata": {},
   "outputs": [
    {
     "name": "stdout",
     "output_type": "stream",
     "text": [
      "< 1, 0, 2 >\n"
     ]
    }
   ],
   "source": [
    "print_vector(tuple_vec[0],tuple_vec[1],tuple_vec[2])"
   ]
  },
  {
   "cell_type": "code",
   "execution_count": 19,
   "metadata": {},
   "outputs": [
    {
     "name": "stdout",
     "output_type": "stream",
     "text": [
      "< 1, 0, 2 >\n"
     ]
    }
   ],
   "source": [
    "print_vector(*tuple_vec)"
   ]
  },
  {
   "cell_type": "code",
   "execution_count": 10,
   "metadata": {
    "collapsed": true
   },
   "outputs": [],
   "source": [
    "list_vec = [1,0,2]"
   ]
  },
  {
   "cell_type": "code",
   "execution_count": 11,
   "metadata": {},
   "outputs": [
    {
     "name": "stdout",
     "output_type": "stream",
     "text": [
      "< 1, 0, 2 >\n"
     ]
    }
   ],
   "source": [
    "print_vector(*list_vec)"
   ]
  },
  {
   "cell_type": "code",
   "execution_count": 12,
   "metadata": {
    "collapsed": true
   },
   "outputs": [],
   "source": [
    "dict_vec = {'x':1,'y':2,'z':3}"
   ]
  },
  {
   "cell_type": "code",
   "execution_count": 13,
   "metadata": {},
   "outputs": [
    {
     "name": "stdout",
     "output_type": "stream",
     "text": [
      "< 1, 2, 3 >\n"
     ]
    }
   ],
   "source": [
    "print_vector(**dict_vec)"
   ]
  },
  {
   "cell_type": "code",
   "execution_count": 20,
   "metadata": {},
   "outputs": [
    {
     "name": "stdout",
     "output_type": "stream",
     "text": [
      "< x, y, z >\n"
     ]
    }
   ],
   "source": [
    "print_vector(*dict_vec)"
   ]
  },
  {
   "cell_type": "code",
   "execution_count": 22,
   "metadata": {
    "collapsed": true
   },
   "outputs": [],
   "source": [
    "# Types of methods\n",
    "# class method, static vs plain method"
   ]
  },
  {
   "cell_type": "code",
   "execution_count": 23,
   "metadata": {
    "collapsed": true
   },
   "outputs": [],
   "source": [
    "class MyClass:\n",
    "    \n",
    "    def method(self):\n",
    "        return 'instance method called', self\n",
    "    \n",
    "    @classmethod\n",
    "    def classmethod(cls):\n",
    "        return 'class method called', cls\n",
    "    \n",
    "    @staticmethod\n",
    "    def staticmethod():\n",
    "        return 'static method called'"
   ]
  },
  {
   "cell_type": "code",
   "execution_count": 24,
   "metadata": {
    "collapsed": true
   },
   "outputs": [],
   "source": [
    "obj = MyClass()"
   ]
  },
  {
   "cell_type": "code",
   "execution_count": 25,
   "metadata": {},
   "outputs": [
    {
     "data": {
      "text/plain": [
       "('instance method called', <__main__.MyClass at 0x1ac1fb25940>)"
      ]
     },
     "execution_count": 25,
     "metadata": {},
     "output_type": "execute_result"
    }
   ],
   "source": [
    "obj.method()"
   ]
  },
  {
   "cell_type": "code",
   "execution_count": 26,
   "metadata": {},
   "outputs": [
    {
     "data": {
      "text/plain": [
       "('class method called', __main__.MyClass)"
      ]
     },
     "execution_count": 26,
     "metadata": {},
     "output_type": "execute_result"
    }
   ],
   "source": [
    "obj.classmethod()"
   ]
  },
  {
   "cell_type": "code",
   "execution_count": 27,
   "metadata": {},
   "outputs": [
    {
     "data": {
      "text/plain": [
       "'static method called'"
      ]
     },
     "execution_count": 27,
     "metadata": {},
     "output_type": "execute_result"
    }
   ],
   "source": [
    "obj.staticmethod()"
   ]
  },
  {
   "cell_type": "code",
   "execution_count": 28,
   "metadata": {},
   "outputs": [
    {
     "data": {
      "text/plain": [
       "('class method called', __main__.MyClass)"
      ]
     },
     "execution_count": 28,
     "metadata": {},
     "output_type": "execute_result"
    }
   ],
   "source": [
    "MyClass.classmethod()"
   ]
  },
  {
   "cell_type": "code",
   "execution_count": 29,
   "metadata": {},
   "outputs": [
    {
     "data": {
      "text/plain": [
       "'static method called'"
      ]
     },
     "execution_count": 29,
     "metadata": {},
     "output_type": "execute_result"
    }
   ],
   "source": [
    "MyClass.staticmethod()"
   ]
  },
  {
   "cell_type": "code",
   "execution_count": 30,
   "metadata": {},
   "outputs": [
    {
     "ename": "TypeError",
     "evalue": "method() missing 1 required positional argument: 'self'",
     "output_type": "error",
     "traceback": [
      "\u001b[1;31m---------------------------------------------------------------------------\u001b[0m",
      "\u001b[1;31mTypeError\u001b[0m                                 Traceback (most recent call last)",
      "\u001b[1;32m<ipython-input-30-7f5ee7a23fc9>\u001b[0m in \u001b[0;36m<module>\u001b[1;34m()\u001b[0m\n\u001b[1;32m----> 1\u001b[1;33m \u001b[0mMyClass\u001b[0m\u001b[1;33m.\u001b[0m\u001b[0mmethod\u001b[0m\u001b[1;33m(\u001b[0m\u001b[1;33m)\u001b[0m\u001b[1;33m\u001b[0m\u001b[0m\n\u001b[0m",
      "\u001b[1;31mTypeError\u001b[0m: method() missing 1 required positional argument: 'self'"
     ]
    }
   ],
   "source": [
    "MyClass.method()"
   ]
  },
  {
   "cell_type": "code",
   "execution_count": 31,
   "metadata": {
    "collapsed": true
   },
   "outputs": [],
   "source": [
    "# *args and **kwargs"
   ]
  },
  {
   "cell_type": "code",
   "execution_count": 32,
   "metadata": {
    "collapsed": true
   },
   "outputs": [],
   "source": [
    "def foo(required, *args, **kwargs):\n",
    "    print(required)\n",
    "    if args:\n",
    "        print(args)\n",
    "    if kwargs:\n",
    "        print(kwargs)"
   ]
  },
  {
   "cell_type": "code",
   "execution_count": 33,
   "metadata": {},
   "outputs": [
    {
     "ename": "TypeError",
     "evalue": "foo() missing 1 required positional argument: 'required'",
     "output_type": "error",
     "traceback": [
      "\u001b[1;31m---------------------------------------------------------------------------\u001b[0m",
      "\u001b[1;31mTypeError\u001b[0m                                 Traceback (most recent call last)",
      "\u001b[1;32m<ipython-input-33-624891b0d01a>\u001b[0m in \u001b[0;36m<module>\u001b[1;34m()\u001b[0m\n\u001b[1;32m----> 1\u001b[1;33m \u001b[0mfoo\u001b[0m\u001b[1;33m(\u001b[0m\u001b[1;33m)\u001b[0m\u001b[1;33m\u001b[0m\u001b[0m\n\u001b[0m",
      "\u001b[1;31mTypeError\u001b[0m: foo() missing 1 required positional argument: 'required'"
     ]
    }
   ],
   "source": [
    "foo()"
   ]
  },
  {
   "cell_type": "code",
   "execution_count": 35,
   "metadata": {},
   "outputs": [
    {
     "name": "stdout",
     "output_type": "stream",
     "text": [
      "hello\n"
     ]
    }
   ],
   "source": [
    "foo('hello')"
   ]
  },
  {
   "cell_type": "code",
   "execution_count": 36,
   "metadata": {},
   "outputs": [
    {
     "name": "stdout",
     "output_type": "stream",
     "text": [
      "hello\n",
      "(1, 2, 3, 4)\n"
     ]
    }
   ],
   "source": [
    "foo('hello',1,2,3,4)"
   ]
  },
  {
   "cell_type": "code",
   "execution_count": 37,
   "metadata": {},
   "outputs": [
    {
     "name": "stdout",
     "output_type": "stream",
     "text": [
      "hello\n",
      "(1, 2, 3, 4)\n",
      "{'key1': 'qwe', 'key2': 'ttt'}\n"
     ]
    }
   ],
   "source": [
    "foo('hello',1,2,3,4,key1='qwe',key2='ttt')"
   ]
  },
  {
   "cell_type": "code",
   "execution_count": 38,
   "metadata": {
    "collapsed": true
   },
   "outputs": [],
   "source": [
    "# Virtual environments"
   ]
  },
  {
   "cell_type": "code",
   "execution_count": null,
   "metadata": {
    "collapsed": true
   },
   "outputs": [],
   "source": []
  },
  {
   "cell_type": "code",
   "execution_count": 39,
   "metadata": {
    "collapsed": true
   },
   "outputs": [],
   "source": [
    "# Pythonic loop"
   ]
  },
  {
   "cell_type": "code",
   "execution_count": 43,
   "metadata": {},
   "outputs": [
    {
     "name": "stdout",
     "output_type": "stream",
     "text": [
      "1\n",
      "2\n",
      "3\n"
     ]
    }
   ],
   "source": [
    "my_items = [1,2,3]\n",
    "\n",
    "i = 0\n",
    "\n",
    "while i < len(my_items):\n",
    "    print(my_items[i])\n",
    "    i += 1"
   ]
  },
  {
   "cell_type": "code",
   "execution_count": 44,
   "metadata": {
    "collapsed": true
   },
   "outputs": [],
   "source": [
    "# Pythonic way"
   ]
  },
  {
   "cell_type": "code",
   "execution_count": 45,
   "metadata": {},
   "outputs": [
    {
     "name": "stdout",
     "output_type": "stream",
     "text": [
      "1\n",
      "2\n",
      "3\n"
     ]
    }
   ],
   "source": [
    "for item in my_items:\n",
    "    print(item)"
   ]
  },
  {
   "cell_type": "code",
   "execution_count": 47,
   "metadata": {},
   "outputs": [
    {
     "name": "stdout",
     "output_type": "stream",
     "text": [
      "0 1\n",
      "1 2\n",
      "2 3\n"
     ]
    }
   ],
   "source": [
    "for i, item in enumerate(my_items):\n",
    "    print(i, item)"
   ]
  },
  {
   "cell_type": "code",
   "execution_count": 48,
   "metadata": {
    "collapsed": true
   },
   "outputs": [],
   "source": [
    "# Python for loops are basically for each loops"
   ]
  },
  {
   "cell_type": "code",
   "execution_count": 49,
   "metadata": {
    "collapsed": true
   },
   "outputs": [],
   "source": [
    "# The \"with\" statement and context managers\n",
    "# dealing with acquisitiona and release"
   ]
  },
  {
   "cell_type": "code",
   "execution_count": 50,
   "metadata": {
    "collapsed": true
   },
   "outputs": [],
   "source": [
    "with open('hello.txt', 'w') as f:\n",
    "    f.write('hello, world !!!')"
   ]
  },
  {
   "cell_type": "code",
   "execution_count": 51,
   "metadata": {
    "collapsed": true
   },
   "outputs": [],
   "source": [
    "# Context managers"
   ]
  },
  {
   "cell_type": "code",
   "execution_count": 52,
   "metadata": {
    "collapsed": true
   },
   "outputs": [],
   "source": [
    "class ManagedFile:\n",
    "    def __init__(self,name):\n",
    "        self.name = name\n",
    "    \n",
    "    def __enter__(self):\n",
    "        self.file = open(self.name, 'w')\n",
    "        return self.file\n",
    "    \n",
    "    def __exit__(self, exc_type, exc_val, exc_tb):\n",
    "        if self.file:\n",
    "            self.file.close()"
   ]
  },
  {
   "cell_type": "code",
   "execution_count": 53,
   "metadata": {
    "collapsed": true
   },
   "outputs": [],
   "source": [
    "with ManagedFile('hello.txt') as f:\n",
    "    f.write('hello, world !!! 3')"
   ]
  },
  {
   "cell_type": "code",
   "execution_count": 54,
   "metadata": {
    "collapsed": true
   },
   "outputs": [],
   "source": [
    "from contextlib import contextmanager\n",
    "\n",
    "@contextmanager\n",
    "def managed_file(name):\n",
    "    try:\n",
    "        f = open(name, 'w')\n",
    "        yield f\n",
    "    finally:\n",
    "        f.close"
   ]
  },
  {
   "cell_type": "code",
   "execution_count": null,
   "metadata": {
    "collapsed": true
   },
   "outputs": [],
   "source": [
    "with managed_file('hello.txt') as f:\n",
    "    f.write('hello, world !!! 4')\n",
    "    f.write('bye')"
   ]
  }
 ],
 "metadata": {
  "kernelspec": {
   "display_name": "Python 3",
   "language": "python",
   "name": "python3"
  },
  "language_info": {
   "codemirror_mode": {
    "name": "ipython",
    "version": 3
   },
   "file_extension": ".py",
   "mimetype": "text/x-python",
   "name": "python",
   "nbconvert_exporter": "python",
   "pygments_lexer": "ipython3",
   "version": "3.6.3"
  }
 },
 "nbformat": 4,
 "nbformat_minor": 2
}
